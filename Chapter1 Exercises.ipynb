{
 "cells": [
  {
   "cell_type": "markdown",
   "metadata": {},
   "source": [
    "2.  Given an alphabet of 26 letters, there are 26 to the power 10, or 26 ** 10, ten-letter strings we can form. That works out to 141167095653376. How many hundred-letter strings are possible?"
   ]
  },
  {
   "cell_type": "code",
   "execution_count": 1,
   "metadata": {
    "collapsed": false
   },
   "outputs": [
    {
     "data": {
      "text/plain": [
       "3142930641582938830174357788501626427282669988762475256374173175398995908420104023465432599069702289330964075081611719197835869803511992549376"
      ]
     },
     "execution_count": 1,
     "metadata": {},
     "output_type": "execute_result"
    }
   ],
   "source": [
    "26 ** 100"
   ]
  },
  {
   "cell_type": "markdown",
   "metadata": {},
   "source": [
    "3. The Python multiplication operation can be applied to lists. What happens when you type ['Monty', 'Python'] * 20, or 3 * sent1?"
   ]
  },
  {
   "cell_type": "code",
   "execution_count": 2,
   "metadata": {
    "collapsed": false
   },
   "outputs": [
    {
     "name": "stdout",
     "output_type": "stream",
     "text": [
      "*** Introductory Examples for the NLTK Book ***\n",
      "Loading text1, ..., text9 and sent1, ..., sent9\n",
      "Type the name of the text or sentence to view it.\n",
      "Type: 'texts()' or 'sents()' to list the materials.\n",
      "text1: Moby Dick by Herman Melville 1851\n",
      "text2: Sense and Sensibility by Jane Austen 1811\n",
      "text3: The Book of Genesis\n",
      "text4: Inaugural Address Corpus\n",
      "text5: Chat Corpus\n",
      "text6: Monty Python and the Holy Grail\n",
      "text7: Wall Street Journal\n",
      "text8: Personals Corpus\n",
      "text9: The Man Who Was Thursday by G . K . Chesterton 1908\n"
     ]
    },
    {
     "data": {
      "text/plain": [
       "['Call',\n",
       " 'me',\n",
       " 'Ishmael',\n",
       " '.',\n",
       " 'Call',\n",
       " 'me',\n",
       " 'Ishmael',\n",
       " '.',\n",
       " 'Call',\n",
       " 'me',\n",
       " 'Ishmael',\n",
       " '.']"
      ]
     },
     "execution_count": 2,
     "metadata": {},
     "output_type": "execute_result"
    }
   ],
   "source": [
    "['Monty', 'Python'] * 20\n",
    "from nltk.book import *\n",
    "3 * sent1"
   ]
  },
  {
   "cell_type": "code",
   "execution_count": 4,
   "metadata": {
    "collapsed": false
   },
   "outputs": [
    {
     "data": {
      "text/plain": [
       "141576"
      ]
     },
     "execution_count": 4,
     "metadata": {},
     "output_type": "execute_result"
    }
   ],
   "source": [
    "# Review 1 on computing with language. How many words are there in text2? How many distinct words are there?\n",
    "len(text2)"
   ]
  },
  {
   "cell_type": "code",
   "execution_count": 5,
   "metadata": {
    "collapsed": false
   },
   "outputs": [
    {
     "data": {
      "text/plain": [
       "6833"
      ]
     },
     "execution_count": 5,
     "metadata": {},
     "output_type": "execute_result"
    }
   ],
   "source": [
    "len(set(text2))"
   ]
  },
  {
   "cell_type": "code",
   "execution_count": 6,
   "metadata": {
    "collapsed": false
   },
   "outputs": [
    {
     "name": "stdout",
     "output_type": "stream",
     "text": [
      "text1 is more diverse\n"
     ]
    }
   ],
   "source": [
    "# Compare the lexical diversity scores for humor and romance fiction in 1.1. Which genre is more lexically diverse?\n",
    "def lexical_diversity(text):\n",
    "    return len(set(text))/len(text)\n",
    "ld1 = lexical_diversity(text1)\n",
    "ld2 = lexical_diversity(text2)\n",
    "if ld1 > ld2:\n",
    "    print('text1 is more diverse')\n",
    "elif ld1 < ld2:\n",
    "    print('text2 is more diverse')\n",
    "else:\n",
    "    print('They are equally diverse.')"
   ]
  },
  {
   "cell_type": "markdown",
   "metadata": {},
   "source": [
    "6. Produce a dispersion plot of the four main protagonists in Sense and Sensibility: Elinor, Marianne, Edward, and Willoughby. What can you observe about the different roles played by the males and females in this novel? Can you identify the couples?"
   ]
  },
  {
   "cell_type": "code",
   "execution_count": 7,
   "metadata": {
    "collapsed": false
   },
   "outputs": [
    {
     "data": {
      "image/png": "[encoded data removed]",
      "text/plain": [
       "<matplotlib.figure.Figure at 0x7f42a6d234a8>"
      ]
     },
     "metadata": {},
     "output_type": "display_data"
    }
   ],
   "source": [
    "text2.dispersion_plot(['Elinor', 'Marianne', 'Edward', 'Willoughby'])"
   ]
  },
  {
   "cell_type": "code",
   "execution_count": 17,
   "metadata": {
    "collapsed": false
   },
   "outputs": [
    {
     "name": "stdout",
     "output_type": "stream",
     "text": [
      "Displaying 25 of 566 matches:\n",
      " had resolved never to be taught . Marianne ' s abilities were , in many respe\n",
      "had already imbibed a good deal of Marianne ' s romance , without having much \n",
      "hing . \" In a few months , my dear Marianne .\" said she , \" Elinor will , in a\n",
      "d ' s heart . But you look grave , Marianne ; do you disapprove your sister ' \n",
      "er ' s choice ?\" \" Perhaps ,\" said Marianne , \" I may consider it with some su\n",
      "er ? In one circumstance only , my Marianne , may your destiny be different fr\n",
      "What a pity it is , Elinor ,\" said Marianne , \" that Edward should have no tas\n",
      "eral direct him perfectly right .\" Marianne was afraid of offending , and said\n",
      "ard which produced it . \" I hope , Marianne ,\" continued Elinor , \" you do not\n",
      "you could never be civil to him .\" Marianne hardly knew what to say . She woul\n",
      "ld express yourself more warmly .\" Marianne was rejoiced to find her sister so\n",
      "least , almost so . What say you , Marianne ?\" \" I shall very soon think him h\n",
      "ed greater certainty of it to make Marianne ' s conviction of their attachment\n",
      "eeable to her . She knew that what Marianne and her mother conjectured one mom\n",
      "reatly esteem , that I like him .\" Marianne here burst forth with indignation \n",
      "er a great fortune or high rank .\" Marianne was astonished to find how much th\n",
      "Edward in so prosperous a state as Marianne had believed it . There was , at t\n",
      "ks , with a handsome pianoforte of Marianne ' s . Mrs . John Dashwood saw the \n",
      "ed . \" Dear , dear Norland !\" said Marianne , as she wandered alone before the\n",
      "ions , to form themselves a home . Marianne ' s pianoforte was unpacked and pr\n",
      "em blush whether they did or not . Marianne was vexed at it for her sister ' s\n",
      "ite of his being in the opinion of Marianne and Margaret an absolute old bache\n",
      "o themselves . In the evening , as Marianne was discovered to be musical , she\n",
      " body prepared to be charmed , and Marianne , who sang very well , at their re\n",
      "d by her own was very fond of it . Marianne ' s performance was highly applaud\n"
     ]
    }
   ],
   "source": [
    "text2.concordance('Marianne')"
   ]
  },
  {
   "cell_type": "code",
   "execution_count": 18,
   "metadata": {
    "collapsed": false
   },
   "outputs": [
    {
     "name": "stdout",
     "output_type": "stream",
     "text": [
      "Displaying 25 of 263 matches:\n",
      "macy from motives of interest , for Edward Ferrars was the eldest son of a man\n",
      "s to her comprehension impossible . Edward Ferrars was not recommended to thei\n",
      "to see him driving a barouche . But Edward had no turn for great men or barouc\n",
      "er brother who was more promising . Edward had been staying several weeks in t\n",
      "the highest opinion in the world of Edward ' s heart . But you look grave , Ma\n",
      "ay consider it with some surprise . Edward is very amiable , and I love him te\n",
      "ama , how spiritless , how tame was Edward ' s manner in reading to us last ni\n",
      " require so much ! He must have all Edward ' s virtues , and his person and ma\n",
      " , Elinor ,\" said Marianne , \" that Edward should have no taste for drawing .\"\n",
      "sister for that blind partiality to Edward which produced it . \" I hope , Mari\n",
      " in speaking of him . She felt that Edward stood very high in her opinion . Sh\n",
      "le ; and I am very much mistaken if Edward is not himself aware that there wou\n",
      " I shall not lose you so soon , and Edward will have greater opportunity of im\n",
      "uld not consider her partiality for Edward in so prosperous a state as Mariann\n",
      "t she was going into Devonshire .-- Edward turned hastily towards her , on hea\n",
      "ood to visit her at Barton ; and to Edward she gave one with still greater aff\n",
      "it principally tended . To separate Edward and Elinor was as far from being he\n",
      "cannot conceal from you . I am sure Edward Ferrars is not well . We have now b\n",
      "vening of their being together ! In Edward ' s farewell there was no distincti\n",
      "nd Elinor , in quitting Norland and Edward , cried not as I did . Even now her\n",
      "ll the sensibility and spirit which Edward had unfortunately wanted . In Mrs .\n",
      " gained two such sons - in - law as Edward and Willoughby . Colonel Brandon ' \n",
      "nd with surprise to see and welcome Edward Ferrars . He was the only person in\n",
      "anne , indeed , the meeting between Edward and her sister was but a continuati\n",
      "land in their mutual behaviour . On Edward ' s side , more particularly , ther\n"
     ]
    }
   ],
   "source": [
    "text2.concordance('Edward')"
   ]
  },
  {
   "cell_type": "code",
   "execution_count": 12,
   "metadata": {
    "collapsed": false
   },
   "outputs": [
    {
     "name": "stdout",
     "output_type": "stream",
     "text": [
      "replied_, ,_, that_was by_. ._assured for_. ._and ._, ._saw said_to\n",
      ".\"_was at_, as_and poor_! to_. said_, of_. being_' in_' was_'\n"
     ]
    }
   ],
   "source": [
    "text2.common_contexts(['Elinor','Edward'])"
   ]
  },
  {
   "cell_type": "code",
   "execution_count": 19,
   "metadata": {
    "collapsed": false
   },
   "outputs": [
    {
     "name": "stdout",
     "output_type": "stream",
     "text": [
      "wanna chat; PART JOIN; MODE #14-19teens; JOIN PART; PART PART;\n",
      "cute.-ass MP3; MP3 player; JOIN JOIN; times .. .; ACTION watches; guys\n",
      "wanna; song lasts; last night; ACTION sits; -...)...- S.M.R.; Lime\n",
      "Player; Player 12%; dont know; lez gurls; long time\n"
     ]
    }
   ],
   "source": [
    "# 7. Find the collocations in text5.\n",
    "text5.collocations()"
   ]
  },
  {
   "cell_type": "markdown",
   "metadata": {},
   "source": [
    "14. The first sentence of text3 is provided to you in the variable sent3. The index of the in sent3 is 1, because sent3[1] gives us 'the'. What are the indexes of the two other occurrences of this word in sent3?"
   ]
  },
  {
   "cell_type": "code",
   "execution_count": 27,
   "metadata": {
    "collapsed": false
   },
   "outputs": [
    {
     "data": {
      "text/plain": [
       "[5, 8]"
      ]
     },
     "execution_count": 27,
     "metadata": {},
     "output_type": "execute_result"
    }
   ],
   "source": [
    "[i for i in range(len(sent3)) if sent3[i] == 'the' and i != 1]"
   ]
  },
  {
   "cell_type": "markdown",
   "metadata": {},
   "source": [
    "15. Review the discussion of conditionals in 4. Find all words in the Chat Corpus (text5) starting with the letter b. Show them in alphabetical order."
   ]
  },
  {
   "cell_type": "code",
   "execution_count": 22,
   "metadata": {
    "collapsed": false
   },
   "outputs": [
    {
     "data": {
      "text/plain": [
       "308"
      ]
     },
     "execution_count": 22,
     "metadata": {},
     "output_type": "execute_result"
    }
   ],
   "source": [
    "result = sorted(w for w in set(text5) if w.startswith('b'))\n",
    "len(result)"
   ]
  },
  {
   "cell_type": "markdown",
   "metadata": {},
   "source": [
    "17. Use text9.index() to find the index of the word sunset. You'll need to insert this word as an argument between the parentheses. By a process of trial and error, find the slice for the complete sentence that contains this word."
   ]
  },
  {
   "cell_type": "code",
   "execution_count": 36,
   "metadata": {
    "collapsed": false
   },
   "outputs": [
    {
     "data": {
      "text/plain": [
       "['THE',\n",
       " 'suburb',\n",
       " 'of',\n",
       " 'Saffron',\n",
       " 'Park',\n",
       " 'lay',\n",
       " 'on',\n",
       " 'the',\n",
       " 'sunset',\n",
       " 'side',\n",
       " 'of',\n",
       " 'London',\n",
       " ',',\n",
       " 'as',\n",
       " 'red',\n",
       " 'and',\n",
       " 'ragged',\n",
       " 'as',\n",
       " 'a',\n",
       " 'cloud',\n",
       " 'of',\n",
       " 'sunset',\n",
       " '.']"
      ]
     },
     "execution_count": 36,
     "metadata": {},
     "output_type": "execute_result"
    }
   ],
   "source": [
    "text9.index('sunset')\n",
    "text9[621:644]"
   ]
  },
  {
   "cell_type": "markdown",
   "metadata": {},
   "source": [
    " 18. Using list addition, and the set and sorted operations, compute the vocabulary of the sentences sent1 ... sent8."
   ]
  },
  {
   "cell_type": "code",
   "execution_count": 40,
   "metadata": {
    "collapsed": false
   },
   "outputs": [
    {
     "data": {
      "text/plain": [
       "['!',\n",
       " ',',\n",
       " '-',\n",
       " '.',\n",
       " '1',\n",
       " '25',\n",
       " '29',\n",
       " '61',\n",
       " ':',\n",
       " 'ARTHUR',\n",
       " 'Call',\n",
       " 'Citizens',\n",
       " 'Dashwood',\n",
       " 'Fellow',\n",
       " 'God',\n",
       " 'House',\n",
       " 'I',\n",
       " 'In',\n",
       " 'Ishmael',\n",
       " 'JOIN',\n",
       " 'KING',\n",
       " 'MALE',\n",
       " 'Nov.',\n",
       " 'PMing',\n",
       " 'Pierre',\n",
       " 'Representatives',\n",
       " 'SCENE',\n",
       " 'SEXY',\n",
       " 'Senate',\n",
       " 'Sussex',\n",
       " 'The',\n",
       " 'Vinken',\n",
       " 'Whoa',\n",
       " '[',\n",
       " ']',\n",
       " 'a',\n",
       " 'and',\n",
       " 'as',\n",
       " 'attrac',\n",
       " 'been',\n",
       " 'beginning',\n",
       " 'board',\n",
       " 'clop',\n",
       " 'created',\n",
       " 'director',\n",
       " 'discreet',\n",
       " 'earth',\n",
       " 'encounters',\n",
       " 'family',\n",
       " 'for',\n",
       " 'had',\n",
       " 'have',\n",
       " 'heaven',\n",
       " 'in',\n",
       " 'join',\n",
       " 'lady',\n",
       " 'lol',\n",
       " 'long',\n",
       " 'me',\n",
       " 'nonexecutive',\n",
       " 'of',\n",
       " 'old',\n",
       " 'older',\n",
       " 'people',\n",
       " 'problem',\n",
       " 'seeks',\n",
       " 'settled',\n",
       " 'single',\n",
       " 'the',\n",
       " 'there',\n",
       " 'to',\n",
       " 'will',\n",
       " 'wind',\n",
       " 'with',\n",
       " 'years']"
      ]
     },
     "execution_count": 40,
     "metadata": {},
     "output_type": "execute_result"
    }
   ],
   "source": [
    "sorted(set(sent1 + sent2 + sent3 + sent4 + sent5 + sent6 + sent7 + sent8))"
   ]
  },
  {
   "cell_type": "markdown",
   "metadata": {},
   "source": [
    "21. Write the slice expression that extracts the last two words of text2."
   ]
  },
  {
   "cell_type": "code",
   "execution_count": 39,
   "metadata": {
    "collapsed": false
   },
   "outputs": [
    {
     "data": {
      "text/plain": [
       "['THE', 'END']"
      ]
     },
     "execution_count": 39,
     "metadata": {},
     "output_type": "execute_result"
    }
   ],
   "source": [
    "text2[-2:]"
   ]
  },
  {
   "cell_type": "markdown",
   "metadata": {},
   "source": [
    "22. Find all the four-letter words in the Chat Corpus (text5). With the help of a frequency distribution (FreqDist), show these words in decreasing order of frequency."
   ]
  },
  {
   "cell_type": "code",
   "execution_count": 41,
   "metadata": {
    "collapsed": true
   },
   "outputs": [],
   "source": [
    "words = [w for w in text5 if len(w) == 4]\n",
    "fdist = FreqDist(words)"
   ]
  }
 ],
 "metadata": {
  "kernelspec": {
   "display_name": "Python 3",
   "language": "python",
   "name": "python3"
  },
  "language_info": {
   "codemirror_mode": {
    "name": "ipython",
    "version": 3
   },
   "file_extension": ".py",
   "mimetype": "text/x-python",
   "name": "python",
   "nbconvert_exporter": "python",
   "pygments_lexer": "ipython3",
   "version": "3.5.2"
  }
 },
 "nbformat": 4,
 "nbformat_minor": 2
}
